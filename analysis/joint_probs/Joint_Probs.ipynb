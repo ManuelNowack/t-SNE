{
 "cells": [
  {
   "cell_type": "code",
   "execution_count": 1,
   "id": "9ee79b22",
   "metadata": {},
   "outputs": [],
   "source": [
    "%matplotlib inline\n",
    "import matplotlib.pyplot as plt\n",
    "import pandas as pd"
   ]
  },
  {
   "cell_type": "code",
   "execution_count": 6,
   "id": "c96197e0",
   "metadata": {},
   "outputs": [],
   "source": [
    "df = pd.read_csv('joint_probs.csv', skipinitialspace=True)"
   ]
  },
  {
   "cell_type": "code",
   "execution_count": 7,
   "id": "375ac002",
   "metadata": {
    "scrolled": true
   },
   "outputs": [
    {
     "data": {
      "text/html": [
       "<div>\n",
       "<style scoped>\n",
       "    .dataframe tbody tr th:only-of-type {\n",
       "        vertical-align: middle;\n",
       "    }\n",
       "\n",
       "    .dataframe tbody tr th {\n",
       "        vertical-align: top;\n",
       "    }\n",
       "\n",
       "    .dataframe thead th {\n",
       "        text-align: right;\n",
       "    }\n",
       "</style>\n",
       "<table border=\"1\" class=\"dataframe\">\n",
       "  <thead>\n",
       "    <tr style=\"text-align: right;\">\n",
       "      <th></th>\n",
       "      <th>n</th>\n",
       "      <th>log_perplexity_baseline</th>\n",
       "      <th>log_perplexity_unroll8</th>\n",
       "      <th>log_perplexity_avx</th>\n",
       "      <th>log_perplexity_avx_acc4</th>\n",
       "      <th>log_perplexity_avx_fma_acc4</th>\n",
       "      <th>joint_probs_baseline</th>\n",
       "      <th>joint_probs_unroll8</th>\n",
       "      <th>joint_probs_avx_fma_acc4</th>\n",
       "    </tr>\n",
       "  </thead>\n",
       "  <tbody>\n",
       "    <tr>\n",
       "      <th>0</th>\n",
       "      <td>2</td>\n",
       "      <td>125.674</td>\n",
       "      <td>139.292</td>\n",
       "      <td>100.233</td>\n",
       "      <td>156.187</td>\n",
       "      <td>161.478</td>\n",
       "      <td>4.243670e+04</td>\n",
       "      <td>3.497420e+04</td>\n",
       "      <td>3.676680e+04</td>\n",
       "    </tr>\n",
       "    <tr>\n",
       "      <th>1</th>\n",
       "      <td>3</td>\n",
       "      <td>210.525</td>\n",
       "      <td>215.193</td>\n",
       "      <td>118.008</td>\n",
       "      <td>253.869</td>\n",
       "      <td>258.989</td>\n",
       "      <td>1.651140e+05</td>\n",
       "      <td>1.106780e+05</td>\n",
       "      <td>1.110340e+05</td>\n",
       "    </tr>\n",
       "    <tr>\n",
       "      <th>2</th>\n",
       "      <td>4</td>\n",
       "      <td>395.532</td>\n",
       "      <td>400.480</td>\n",
       "      <td>176.831</td>\n",
       "      <td>181.120</td>\n",
       "      <td>177.560</td>\n",
       "      <td>6.640890e+05</td>\n",
       "      <td>3.948390e+05</td>\n",
       "      <td>1.822050e+05</td>\n",
       "    </tr>\n",
       "    <tr>\n",
       "      <th>3</th>\n",
       "      <td>5</td>\n",
       "      <td>805.820</td>\n",
       "      <td>764.007</td>\n",
       "      <td>296.728</td>\n",
       "      <td>268.559</td>\n",
       "      <td>272.366</td>\n",
       "      <td>2.972620e+06</td>\n",
       "      <td>1.763190e+06</td>\n",
       "      <td>6.061700e+05</td>\n",
       "    </tr>\n",
       "    <tr>\n",
       "      <th>4</th>\n",
       "      <td>6</td>\n",
       "      <td>1688.900</td>\n",
       "      <td>1494.610</td>\n",
       "      <td>468.283</td>\n",
       "      <td>449.421</td>\n",
       "      <td>441.849</td>\n",
       "      <td>1.210540e+07</td>\n",
       "      <td>6.710750e+06</td>\n",
       "      <td>1.982650e+06</td>\n",
       "    </tr>\n",
       "    <tr>\n",
       "      <th>5</th>\n",
       "      <td>7</td>\n",
       "      <td>3544.490</td>\n",
       "      <td>2983.260</td>\n",
       "      <td>835.824</td>\n",
       "      <td>796.542</td>\n",
       "      <td>788.697</td>\n",
       "      <td>4.938640e+07</td>\n",
       "      <td>2.628010e+07</td>\n",
       "      <td>7.092390e+06</td>\n",
       "    </tr>\n",
       "    <tr>\n",
       "      <th>6</th>\n",
       "      <td>8</td>\n",
       "      <td>7005.150</td>\n",
       "      <td>5885.410</td>\n",
       "      <td>1580.640</td>\n",
       "      <td>1505.830</td>\n",
       "      <td>1490.410</td>\n",
       "      <td>1.989640e+08</td>\n",
       "      <td>1.034950e+08</td>\n",
       "      <td>2.678430e+07</td>\n",
       "    </tr>\n",
       "    <tr>\n",
       "      <th>7</th>\n",
       "      <td>9</td>\n",
       "      <td>14393.000</td>\n",
       "      <td>11758.500</td>\n",
       "      <td>3058.470</td>\n",
       "      <td>2924.090</td>\n",
       "      <td>2905.730</td>\n",
       "      <td>8.038800e+08</td>\n",
       "      <td>4.125610e+08</td>\n",
       "      <td>1.064240e+08</td>\n",
       "    </tr>\n",
       "    <tr>\n",
       "      <th>8</th>\n",
       "      <td>10</td>\n",
       "      <td>29004.500</td>\n",
       "      <td>23578.400</td>\n",
       "      <td>6096.650</td>\n",
       "      <td>5771.750</td>\n",
       "      <td>5735.420</td>\n",
       "      <td>3.305350e+09</td>\n",
       "      <td>1.701630e+09</td>\n",
       "      <td>4.356390e+08</td>\n",
       "    </tr>\n",
       "    <tr>\n",
       "      <th>9</th>\n",
       "      <td>11</td>\n",
       "      <td>58258.600</td>\n",
       "      <td>47113.300</td>\n",
       "      <td>12173.800</td>\n",
       "      <td>11531.100</td>\n",
       "      <td>11421.800</td>\n",
       "      <td>1.417870e+10</td>\n",
       "      <td>6.959050e+09</td>\n",
       "      <td>1.758690e+09</td>\n",
       "    </tr>\n",
       "    <tr>\n",
       "      <th>10</th>\n",
       "      <td>12</td>\n",
       "      <td>117051.000</td>\n",
       "      <td>93440.900</td>\n",
       "      <td>24205.600</td>\n",
       "      <td>22950.800</td>\n",
       "      <td>22770.700</td>\n",
       "      <td>5.877100e+10</td>\n",
       "      <td>2.842930e+10</td>\n",
       "      <td>7.159730e+09</td>\n",
       "    </tr>\n",
       "    <tr>\n",
       "      <th>11</th>\n",
       "      <td>13</td>\n",
       "      <td>229491.000</td>\n",
       "      <td>188705.000</td>\n",
       "      <td>48634.500</td>\n",
       "      <td>45814.000</td>\n",
       "      <td>45612.500</td>\n",
       "      <td>2.368480e+11</td>\n",
       "      <td>1.146360e+11</td>\n",
       "      <td>2.877570e+10</td>\n",
       "    </tr>\n",
       "    <tr>\n",
       "      <th>12</th>\n",
       "      <td>14</td>\n",
       "      <td>460575.000</td>\n",
       "      <td>385820.000</td>\n",
       "      <td>99554.400</td>\n",
       "      <td>93502.900</td>\n",
       "      <td>91432.300</td>\n",
       "      <td>9.621380e+11</td>\n",
       "      <td>4.779410e+11</td>\n",
       "      <td>1.235580e+11</td>\n",
       "    </tr>\n",
       "    <tr>\n",
       "      <th>13</th>\n",
       "      <td>15</td>\n",
       "      <td>936477.000</td>\n",
       "      <td>753824.000</td>\n",
       "      <td>196211.000</td>\n",
       "      <td>185598.000</td>\n",
       "      <td>184189.000</td>\n",
       "      <td>4.283800e+12</td>\n",
       "      <td>2.506360e+12</td>\n",
       "      <td>1.005700e+12</td>\n",
       "    </tr>\n",
       "  </tbody>\n",
       "</table>\n",
       "</div>"
      ],
      "text/plain": [
       "     n  log_perplexity_baseline  log_perplexity_unroll8  log_perplexity_avx  \\\n",
       "0    2                  125.674                 139.292             100.233   \n",
       "1    3                  210.525                 215.193             118.008   \n",
       "2    4                  395.532                 400.480             176.831   \n",
       "3    5                  805.820                 764.007             296.728   \n",
       "4    6                 1688.900                1494.610             468.283   \n",
       "5    7                 3544.490                2983.260             835.824   \n",
       "6    8                 7005.150                5885.410            1580.640   \n",
       "7    9                14393.000               11758.500            3058.470   \n",
       "8   10                29004.500               23578.400            6096.650   \n",
       "9   11                58258.600               47113.300           12173.800   \n",
       "10  12               117051.000               93440.900           24205.600   \n",
       "11  13               229491.000              188705.000           48634.500   \n",
       "12  14               460575.000              385820.000           99554.400   \n",
       "13  15               936477.000              753824.000          196211.000   \n",
       "\n",
       "    log_perplexity_avx_acc4  log_perplexity_avx_fma_acc4  \\\n",
       "0                   156.187                      161.478   \n",
       "1                   253.869                      258.989   \n",
       "2                   181.120                      177.560   \n",
       "3                   268.559                      272.366   \n",
       "4                   449.421                      441.849   \n",
       "5                   796.542                      788.697   \n",
       "6                  1505.830                     1490.410   \n",
       "7                  2924.090                     2905.730   \n",
       "8                  5771.750                     5735.420   \n",
       "9                 11531.100                    11421.800   \n",
       "10                22950.800                    22770.700   \n",
       "11                45814.000                    45612.500   \n",
       "12                93502.900                    91432.300   \n",
       "13               185598.000                   184189.000   \n",
       "\n",
       "    joint_probs_baseline  joint_probs_unroll8  joint_probs_avx_fma_acc4  \n",
       "0           4.243670e+04         3.497420e+04              3.676680e+04  \n",
       "1           1.651140e+05         1.106780e+05              1.110340e+05  \n",
       "2           6.640890e+05         3.948390e+05              1.822050e+05  \n",
       "3           2.972620e+06         1.763190e+06              6.061700e+05  \n",
       "4           1.210540e+07         6.710750e+06              1.982650e+06  \n",
       "5           4.938640e+07         2.628010e+07              7.092390e+06  \n",
       "6           1.989640e+08         1.034950e+08              2.678430e+07  \n",
       "7           8.038800e+08         4.125610e+08              1.064240e+08  \n",
       "8           3.305350e+09         1.701630e+09              4.356390e+08  \n",
       "9           1.417870e+10         6.959050e+09              1.758690e+09  \n",
       "10          5.877100e+10         2.842930e+10              7.159730e+09  \n",
       "11          2.368480e+11         1.146360e+11              2.877570e+10  \n",
       "12          9.621380e+11         4.779410e+11              1.235580e+11  \n",
       "13          4.283800e+12         2.506360e+12              1.005700e+12  "
      ]
     },
     "execution_count": 7,
     "metadata": {},
     "output_type": "execute_result"
    }
   ],
   "source": [
    "df"
   ]
  },
  {
   "cell_type": "code",
   "execution_count": 8,
   "id": "bcab140a",
   "metadata": {},
   "outputs": [],
   "source": [
    "def get_perf_joint_probs(func_name):\n",
    "    perf_df = df[['n', func_name]]\n",
    "    N = 2 ** df['n']\n",
    "    perf_df['perf'] = (2329 * N * N - 805 * N) / df[func_name]\n",
    "    return perf_df"
   ]
  },
  {
   "cell_type": "code",
   "execution_count": 9,
   "id": "7bbab6ee",
   "metadata": {
    "scrolled": true
   },
   "outputs": [
    {
     "name": "stderr",
     "output_type": "stream",
     "text": [
      "<ipython-input-8-fdb0d9baf117>:4: SettingWithCopyWarning: \n",
      "A value is trying to be set on a copy of a slice from a DataFrame.\n",
      "Try using .loc[row_indexer,col_indexer] = value instead\n",
      "\n",
      "See the caveats in the documentation: https://pandas.pydata.org/pandas-docs/stable/user_guide/indexing.html#returning-a-view-versus-a-copy\n",
      "  perf_df['perf'] = (2329 * N * N - 805 * N) / df[func_name]\n"
     ]
    }
   ],
   "source": [
    "v1 = get_perf_joint_probs('joint_probs_baseline')\n",
    "v2 = get_perf_joint_probs('joint_probs_unroll8')\n",
    "v3 = get_perf_joint_probs('joint_probs_avx_fma_acc4')"
   ]
  },
  {
   "cell_type": "code",
   "execution_count": 10,
   "id": "81917266",
   "metadata": {
    "scrolled": true
   },
   "outputs": [
    {
     "data": {
      "text/plain": [
       "Text(0, 0.5, 'Performance [F/C]')"
      ]
     },
     "execution_count": 10,
     "metadata": {},
     "output_type": "execute_result"
    },
    {
     "data": {
      "image/png": "[encoded data removed]",
      "text/plain": [
       "<Figure size 432x288 with 1 Axes>"
      ]
     },
     "metadata": {},
     "output_type": "display_data"
    }
   ],
   "source": [
    "plt.style.use('ggplot')\n",
    "fig, ax = plt.subplots()\n",
    "\n",
    "# ax.axvline(x=11, linewidth=1, color='r')\n",
    "# ax.text(11.5, 1.65, 'L1', color='r')\n",
    "\n",
    "ax.plot(v1['n'], v1['perf'], '-o', label='Baseline')\n",
    "ax.plot(v2['n'], v2['perf'], '-o', label='Unroll by 8')\n",
    "ax.plot(v3['n'], v3['perf'], '-o', label='Vectorized')\n",
    "\n",
    "\n",
    "ticks_label = [r\"$2^{{{}}}$\".format(x) for x in v1['n']]\n",
    "ax.set_xticks(v1['n'])\n",
    "ax.set_xticklabels(ticks_label)\n",
    "# ax.set_ylim(top=2.95)\n",
    "\n",
    "# ax.legend(bbox_to_anchor=(1.05, 1), loc='upper left')\n",
    "ax.legend(bbox_to_anchor=(0, 1, 1, 0), loc=\"lower left\", ncol=4)\n",
    "\n",
    "ax.set_xlabel('Input size')\n",
    "ax.set_ylabel('Performance [F/C]')"
   ]
  },
  {
   "cell_type": "code",
   "execution_count": 11,
   "id": "eeccb6fc",
   "metadata": {},
   "outputs": [],
   "source": [
    "fig.savefig('joint_probs.pdf', bbox_inches='tight')"
   ]
  },
  {
   "cell_type": "code",
   "execution_count": 12,
   "id": "e046c02e",
   "metadata": {},
   "outputs": [],
   "source": [
    "def get_perf_log_perplexity(func_name):\n",
    "    perf_df = df[['n', func_name]]\n",
    "    N = 2 ** df['n']\n",
    "    perf_df['perf'] = (23 * N + 5) / df[func_name]\n",
    "    return perf_df"
   ]
  },
  {
   "cell_type": "code",
   "execution_count": 13,
   "id": "b02a4b9a",
   "metadata": {
    "scrolled": true
   },
   "outputs": [
    {
     "name": "stderr",
     "output_type": "stream",
     "text": [
      "<ipython-input-12-e6d057112d89>:4: SettingWithCopyWarning: \n",
      "A value is trying to be set on a copy of a slice from a DataFrame.\n",
      "Try using .loc[row_indexer,col_indexer] = value instead\n",
      "\n",
      "See the caveats in the documentation: https://pandas.pydata.org/pandas-docs/stable/user_guide/indexing.html#returning-a-view-versus-a-copy\n",
      "  perf_df['perf'] = (23 * N + 5) / df[func_name]\n"
     ]
    }
   ],
   "source": [
    "v1 = get_perf_log_perplexity('log_perplexity_baseline')\n",
    "v2 = get_perf_log_perplexity('log_perplexity_unroll8')\n",
    "v3 = get_perf_log_perplexity('log_perplexity_avx_acc4')\n",
    "v4 = get_perf_log_perplexity('log_perplexity_avx_fma_acc4')"
   ]
  },
  {
   "cell_type": "code",
   "execution_count": 14,
   "id": "acefc826",
   "metadata": {},
   "outputs": [
    {
     "data": {
      "text/plain": [
       "Text(0, 0.5, 'Performance [F/C]')"
      ]
     },
     "execution_count": 14,
     "metadata": {},
     "output_type": "execute_result"
    },
    {
     "data": {
      "image/png": "[encoded data removed]",
      "text/plain": [
       "<Figure size 432x288 with 1 Axes>"
      ]
     },
     "metadata": {},
     "output_type": "display_data"
    }
   ],
   "source": [
    "plt.style.use('ggplot')\n",
    "fig, ax = plt.subplots()\n",
    "\n",
    "# ax.axvline(x=11, linewidth=1, color='r')\n",
    "# ax.text(11.5, 1.65, 'L1', color='r')\n",
    "\n",
    "ax.plot(v1['n'], v1['perf'], '-o', label='Baseline')\n",
    "ax.plot(v2['n'], v2['perf'], '-o', label='Unroll by 8')\n",
    "ax.plot(v3['n'], v3['perf'], '-o', label='Vectorized')\n",
    "ax.plot(v4['n'], v4['perf'], '-o', label='Vectorized (FMA)')\n",
    "\n",
    "\n",
    "ticks_label = [r\"$2^{{{}}}$\".format(x) for x in v1['n']]\n",
    "ax.set_xticks(v1['n'])\n",
    "ax.set_xticklabels(ticks_label)\n",
    "# ax.set_ylim(top=2.95)\n",
    "\n",
    "# ax.legend(bbox_to_anchor=(1.05, 1), loc='upper left')\n",
    "ax.legend(bbox_to_anchor=(0, 1, 1, 0), loc=\"lower left\", ncol=4)\n",
    "\n",
    "ax.set_xlabel('Input size')\n",
    "ax.set_ylabel('Performance [F/C]')"
   ]
  },
  {
   "cell_type": "code",
   "execution_count": 15,
   "id": "98a53504",
   "metadata": {},
   "outputs": [],
   "source": [
    "fig.savefig('log_perplexity.pdf', bbox_inches='tight')"
   ]
  },
  {
   "cell_type": "code",
   "execution_count": null,
   "id": "7ce167f3",
   "metadata": {},
   "outputs": [],
   "source": []
  }
 ],
 "metadata": {
  "kernelspec": {
   "display_name": "Python 3",
   "language": "python",
   "name": "python3"
  },
  "language_info": {
   "codemirror_mode": {
    "name": "ipython",
    "version": 3
   },
   "file_extension": ".py",
   "mimetype": "text/x-python",
   "name": "python",
   "nbconvert_exporter": "python",
   "pygments_lexer": "ipython3",
   "version": "3.9.5"
  }
 },
 "nbformat": 4,
 "nbformat_minor": 5
}
