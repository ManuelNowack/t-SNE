{
 "cells": [
  {
   "cell_type": "code",
   "execution_count": 1,
   "id": "9ee79b22",
   "metadata": {},
   "outputs": [],
   "source": [
    "%matplotlib inline\n",
    "import matplotlib.pyplot as plt\n",
    "import pandas as pd"
   ]
  },
  {
   "cell_type": "code",
   "execution_count": 2,
   "id": "c96197e0",
   "metadata": {},
   "outputs": [],
   "source": [
    "df = pd.read_csv('joint_probs.csv', skipinitialspace=True)"
   ]
  },
  {
   "cell_type": "code",
   "execution_count": 3,
   "id": "bcab140a",
   "metadata": {},
   "outputs": [],
   "source": [
    "def get_perf_joint_probs(func_name, flop):\n",
    "    perf_df = df[['n', func_name]].head(12)\n",
    "    N = 2 ** perf_df['n']\n",
    "    perf_df['flop'] = flop(N)\n",
    "    perf_df['perf'] = perf_df['flop'] / perf_df[func_name]\n",
    "    return perf_df"
   ]
  },
  {
   "cell_type": "code",
   "execution_count": 4,
   "id": "7bbab6ee",
   "metadata": {
    "scrolled": true
   },
   "outputs": [],
   "source": [
    "v1 = get_perf_joint_probs('joint_probs_baseline', lambda n : 2329*n*n - 728*n)\n",
    "v2 = get_perf_joint_probs('joint_probs_unroll8', lambda n : 1938.5*n*n + 1230.5*n)\n",
    "v3 = get_perf_joint_probs('joint_probs_avx_fma_acc4', lambda n : 2788.5*n*n + 380.5*n)"
   ]
  },
  {
   "cell_type": "code",
   "execution_count": 5,
   "id": "81917266",
   "metadata": {
    "scrolled": true
   },
   "outputs": [
    {
     "data": {
      "text/plain": [
       "Text(0, 0.5, 'Performance [F/C]')"
      ]
     },
     "execution_count": 5,
     "metadata": {},
     "output_type": "execute_result"
    },
    {
     "data": {
      "image/png": "[encoded data removed]",
      "text/plain": [
       "<Figure size 432x288 with 1 Axes>"
      ]
     },
     "metadata": {},
     "output_type": "display_data"
    }
   ],
   "source": [
    "plt.style.use('seaborn-whitegrid')\n",
    "fig, ax = plt.subplots()\n",
    "\n",
    "ax.axvline(x=5.2, linewidth=1, color='r')\n",
    "ax.text(5.5, 3, 'L1', color='r')\n",
    "ax.axvline(x=6.7, linewidth=1, color='r')\n",
    "ax.text(7, 3, 'L2', color='r')\n",
    "ax.axvline(x=9.2, linewidth=1, color='r')\n",
    "ax.text(9.5, 3, 'L3', color='r')\n",
    "\n",
    "ax.plot(v1['n'], v1['perf'], '-o', label='baseline')\n",
    "ax.plot(v2['n'], v2['perf'], '-o', label='unroll 8x8')\n",
    "ax.plot(v3['n'], v3['perf'], '-o', label='vectorized')\n",
    "\n",
    "\n",
    "ticks_label = [r\"$2^{{{}}}$\".format(x) for x in v1['n']]\n",
    "ax.set_xticks(v1['n'])\n",
    "ax.set_xticklabels(ticks_label)\n",
    "# ax.set_ylim(top=2.95)\n",
    "\n",
    "# ax.legend(bbox_to_anchor=(1.05, 1), loc='upper left')\n",
    "ax.legend(bbox_to_anchor=(0, 1, 1, 0), loc=\"lower left\", ncol=4)\n",
    "\n",
    "ax.set_xlabel('Input size')\n",
    "ax.set_ylabel('Performance [F/C]')"
   ]
  },
  {
   "cell_type": "code",
   "execution_count": 6,
   "id": "9bdaa16f",
   "metadata": {},
   "outputs": [
    {
     "data": {
      "text/html": [
       "<div>\n",
       "<style scoped>\n",
       "    .dataframe tbody tr th:only-of-type {\n",
       "        vertical-align: middle;\n",
       "    }\n",
       "\n",
       "    .dataframe tbody tr th {\n",
       "        vertical-align: top;\n",
       "    }\n",
       "\n",
       "    .dataframe thead th {\n",
       "        text-align: right;\n",
       "    }\n",
       "</style>\n",
       "<table border=\"1\" class=\"dataframe\">\n",
       "  <thead>\n",
       "    <tr style=\"text-align: right;\">\n",
       "      <th></th>\n",
       "      <th>n</th>\n",
       "      <th>joint_probs_avx_fma_acc4</th>\n",
       "      <th>flop</th>\n",
       "      <th>perf</th>\n",
       "    </tr>\n",
       "  </thead>\n",
       "  <tbody>\n",
       "    <tr>\n",
       "      <th>0</th>\n",
       "      <td>2</td>\n",
       "      <td>3.676680e+04</td>\n",
       "      <td>4.613800e+04</td>\n",
       "      <td>1.254882</td>\n",
       "    </tr>\n",
       "    <tr>\n",
       "      <th>1</th>\n",
       "      <td>3</td>\n",
       "      <td>1.110340e+05</td>\n",
       "      <td>1.815080e+05</td>\n",
       "      <td>1.634706</td>\n",
       "    </tr>\n",
       "    <tr>\n",
       "      <th>2</th>\n",
       "      <td>4</td>\n",
       "      <td>1.822050e+05</td>\n",
       "      <td>7.199440e+05</td>\n",
       "      <td>3.951286</td>\n",
       "    </tr>\n",
       "    <tr>\n",
       "      <th>3</th>\n",
       "      <td>5</td>\n",
       "      <td>6.061700e+05</td>\n",
       "      <td>2.867600e+06</td>\n",
       "      <td>4.730686</td>\n",
       "    </tr>\n",
       "    <tr>\n",
       "      <th>4</th>\n",
       "      <td>6</td>\n",
       "      <td>1.982650e+06</td>\n",
       "      <td>1.144605e+07</td>\n",
       "      <td>5.773106</td>\n",
       "    </tr>\n",
       "    <tr>\n",
       "      <th>5</th>\n",
       "      <td>7</td>\n",
       "      <td>7.092390e+06</td>\n",
       "      <td>4.573549e+07</td>\n",
       "      <td>6.448530</td>\n",
       "    </tr>\n",
       "    <tr>\n",
       "      <th>6</th>\n",
       "      <td>8</td>\n",
       "      <td>2.678430e+07</td>\n",
       "      <td>1.828445e+08</td>\n",
       "      <td>6.826557</td>\n",
       "    </tr>\n",
       "    <tr>\n",
       "      <th>7</th>\n",
       "      <td>9</td>\n",
       "      <td>1.064240e+08</td>\n",
       "      <td>7.311834e+08</td>\n",
       "      <td>6.870474</td>\n",
       "    </tr>\n",
       "    <tr>\n",
       "      <th>8</th>\n",
       "      <td>10</td>\n",
       "      <td>4.356390e+08</td>\n",
       "      <td>2.924344e+09</td>\n",
       "      <td>6.712769</td>\n",
       "    </tr>\n",
       "    <tr>\n",
       "      <th>9</th>\n",
       "      <td>11</td>\n",
       "      <td>1.758690e+09</td>\n",
       "      <td>1.169660e+10</td>\n",
       "      <td>6.650743</td>\n",
       "    </tr>\n",
       "    <tr>\n",
       "      <th>10</th>\n",
       "      <td>12</td>\n",
       "      <td>7.159730e+09</td>\n",
       "      <td>4.678483e+10</td>\n",
       "      <td>6.534440</td>\n",
       "    </tr>\n",
       "    <tr>\n",
       "      <th>11</th>\n",
       "      <td>13</td>\n",
       "      <td>2.877570e+10</td>\n",
       "      <td>1.871362e+11</td>\n",
       "      <td>6.503271</td>\n",
       "    </tr>\n",
       "  </tbody>\n",
       "</table>\n",
       "</div>"
      ],
      "text/plain": [
       "     n  joint_probs_avx_fma_acc4          flop      perf\n",
       "0    2              3.676680e+04  4.613800e+04  1.254882\n",
       "1    3              1.110340e+05  1.815080e+05  1.634706\n",
       "2    4              1.822050e+05  7.199440e+05  3.951286\n",
       "3    5              6.061700e+05  2.867600e+06  4.730686\n",
       "4    6              1.982650e+06  1.144605e+07  5.773106\n",
       "5    7              7.092390e+06  4.573549e+07  6.448530\n",
       "6    8              2.678430e+07  1.828445e+08  6.826557\n",
       "7    9              1.064240e+08  7.311834e+08  6.870474\n",
       "8   10              4.356390e+08  2.924344e+09  6.712769\n",
       "9   11              1.758690e+09  1.169660e+10  6.650743\n",
       "10  12              7.159730e+09  4.678483e+10  6.534440\n",
       "11  13              2.877570e+10  1.871362e+11  6.503271"
      ]
     },
     "execution_count": 6,
     "metadata": {},
     "output_type": "execute_result"
    }
   ],
   "source": [
    "v3"
   ]
  },
  {
   "cell_type": "code",
   "execution_count": 7,
   "id": "e046c02e",
   "metadata": {},
   "outputs": [],
   "source": [
    "def get_perf_log_perplexity(func_name, flop):\n",
    "    perf_df = df[['n', func_name]]\n",
    "    N = 2 ** df['n']\n",
    "    perf_df['perf'] = flop(N) / df[func_name]\n",
    "    return perf_df"
   ]
  },
  {
   "cell_type": "code",
   "execution_count": 8,
   "id": "b02a4b9a",
   "metadata": {
    "scrolled": false
   },
   "outputs": [
    {
     "name": "stderr",
     "output_type": "stream",
     "text": [
      "<ipython-input-7-c9259dbbf516>:4: SettingWithCopyWarning: \n",
      "A value is trying to be set on a copy of a slice from a DataFrame.\n",
      "Try using .loc[row_indexer,col_indexer] = value instead\n",
      "\n",
      "See the caveats in the documentation: https://pandas.pydata.org/pandas-docs/stable/user_guide/indexing.html#returning-a-view-versus-a-copy\n",
      "  perf_df['perf'] = flop(N) / df[func_name]\n"
     ]
    }
   ],
   "source": [
    "v1 = get_perf_log_perplexity('log_perplexity_baseline', lambda n: 23*n + 5)\n",
    "v2 = get_perf_log_perplexity('log_perplexity_unroll8', lambda n: 23*n + 5)\n",
    "v3 = get_perf_log_perplexity('log_perplexity_avx_acc4', lambda n: 40*n - 12)\n",
    "v4 = get_perf_log_perplexity('log_perplexity_avx_fma_acc4', lambda n: 40*n - 12)"
   ]
  },
  {
   "cell_type": "code",
   "execution_count": 9,
   "id": "acefc826",
   "metadata": {},
   "outputs": [
    {
     "data": {
      "text/plain": [
       "Text(0, 0.5, 'Performance [F/C]')"
      ]
     },
     "execution_count": 9,
     "metadata": {},
     "output_type": "execute_result"
    },
    {
     "data": {
      "image/png": "[encoded data removed]",
      "text/plain": [
       "<Figure size 432x288 with 1 Axes>"
      ]
     },
     "metadata": {},
     "output_type": "display_data"
    }
   ],
   "source": [
    "fig, ax = plt.subplots()\n",
    "\n",
    "# ax.axvline(x=11, linewidth=1, color='r')\n",
    "# ax.text(11.5, 1.65, 'L1', color='r')\n",
    "\n",
    "ax.plot(v1['n'], v1['perf'], '-o', label='Baseline')\n",
    "ax.plot(v2['n'], v2['perf'], '-o', label='Unroll 8x8')\n",
    "ax.plot(v3['n'], v3['perf'], '-o', label='Vectorized')\n",
    "ax.plot(v4['n'], v4['perf'], '-o', label='Vectorized (FMA)')\n",
    "\n",
    "\n",
    "ticks_label = [r\"$2^{{{}}}$\".format(x) for x in v1['n']]\n",
    "ax.set_xticks(v1['n'])\n",
    "ax.set_xticklabels(ticks_label)\n",
    "# ax.set_ylim(top=2.95)\n",
    "\n",
    "# ax.legend(bbox_to_anchor=(1.05, 1), loc='upper left')\n",
    "ax.legend(bbox_to_anchor=(0, 1, 1, 0), loc=\"lower left\", ncol=4)\n",
    "\n",
    "ax.set_xlabel('Input size')\n",
    "ax.set_ylabel('Performance [F/C]')"
   ]
  },
  {
   "cell_type": "code",
   "execution_count": null,
   "id": "7ce167f3",
   "metadata": {},
   "outputs": [],
   "source": []
  }
 ],
 "metadata": {
  "kernelspec": {
   "display_name": "Python 3",
   "language": "python",
   "name": "python3"
  },
  "language_info": {
   "codemirror_mode": {
    "name": "ipython",
    "version": 3
   },
   "file_extension": ".py",
   "mimetype": "text/x-python",
   "name": "python",
   "nbconvert_exporter": "python",
   "pygments_lexer": "ipython3",
   "version": "3.9.5"
  }
 },
 "nbformat": 4,
 "nbformat_minor": 5
}
